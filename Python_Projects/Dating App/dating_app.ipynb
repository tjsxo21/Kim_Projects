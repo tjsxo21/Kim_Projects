{
 "cells": [
  {
   "cell_type": "code",
   "execution_count": 1,
   "id": "d7916d79",
   "metadata": {},
   "outputs": [
    {
     "name": "stdout",
     "output_type": "stream",
     "text": [
      "(1, 'abc12', 'M', 'Mike Hard', 27, 170, 'Asian', 'Harvard', 'Google', 'Software Engineer', 'Agnostic', 'Liberal', 'Casual', 'Straight')\n",
      "(2, 'abc23', 'F', 'Sarah Go', 30, 176, 'White', 'Berkley', 'Walmart', 'Sales Manager', 'Christian', 'Conservative', 'Casual', 'Bisexual')\n",
      "(3, 'za23', 'F', 'Molly Holly', 35, 180, 'White', 'Virginia Tech', 'Amazon', 'Data Engineer', 'Buddhist', 'Moderate', 'Relationship', 'Straight')\n",
      "(4, 'we2', 'M', 'Bobby Smith', 40, 177, 'African American', 'Caltech', 'Microsoft', 'Cloud Engineer', 'Catholic', 'Liberal', 'Casual', 'Bisexual')\n"
     ]
    }
   ],
   "source": [
    "# dating_app project\n",
    "# To Do List\n",
    "# - Retrieve data from SQL (O)\n",
    "# - Pass data to SQL \n",
    "# - PY: Ask user input and pass/save info to SQL (Current)\n",
    "# - PY: Get info from SQL and build functions to match\n",
    "# Next Steps: Fix user input array issue\n",
    "import pdb\n",
    "import sys\n",
    "import mysql\n",
    "import mysql.connector as mysqlConnector\n",
    "#database\n",
    "mydb = mysql.connector.connect(host = \"localhost\",user = \"root\",passwd = \"Xotjsrla!123456789%\",database=\"dating_app\")\n",
    "mycursor = mydb.cursor() # cursor method: Acts as a pointer\n",
    "# mycursor.execute(\"INSERT INTO user_profile (username, gender, name, age, height, ethnicity, school, workplace, jobtitle, religion, politics, dating_goals, sexual_preferences) VALUES (%s,%s,%s,%s,%s,%s,%s,%s,%s,%s,%s,%s,%s)\", ('xyz_5', 'M', 'BB', 27, 170, 'Asian', 'Harvard', 'Google', 'Software Engineer', 'Agnostic', 'Liberal', 'Casual', 'Straight'))\n",
    "# mycursor.execute(\"DELETE FROM user_profile WHERE username='xyz_4'\")\n",
    "# mydb.commit()\n",
    "mycursor.execute(\"SELECT * FROM user_profile\")\n",
    "result = mycursor.fetchall() # fetchall gets all data, fetchone gets the first data\n",
    "\n",
    "for x in result:\n",
    "    print(x)\n",
    "    \n",
    "def main():\n",
    "    print('Main')"
   ]
  },
  {
   "cell_type": "code",
   "execution_count": 2,
   "id": "bf908f21-7608-4e72-9e0e-f9d66d87de82",
   "metadata": {},
   "outputs": [],
   "source": [
    "class userinfo():\n",
    "    \n",
    "    def userinput():\n",
    "        profile_var = ['username', 'gender', 'name', 'age', 'height', 'ethnicity', 'school', 'workplace', 'jobtitle', 'religion', 'politics', 'dating_goals', 'sexual_preferences']\n",
    "        profile_info = ['username', 'gender', 'name', 'age', 'height', 'ethnicity', 'school', 'workplace', 'job title', 'religion', 'political tendency', 'dating goals', 'sexual preferences']\n",
    "        typedinput = ['','','','','','','','','','','','','']\n",
    "        # id = input(\"Please type in ID: \")\n",
    "        # for x in profile_info:\n",
    "        \n",
    "        i = 0\n",
    "        while i < len(profile_var):\n",
    "            print(profile_var[i])\n",
    "            typedinput[i] = input(\"Please type in \" + profile_info[i] + \": \")\n",
    "            print(typedinput[i])\n",
    "            i+=1\n",
    "        \n",
    "        profile_var = typedinput"
   ]
  },
  {
   "cell_type": "code",
   "execution_count": 3,
   "id": "93bca082-8fec-439c-bee7-9103eb599a99",
   "metadata": {},
   "outputs": [
    {
     "name": "stdout",
     "output_type": "stream",
     "text": [
      "username\n"
     ]
    },
    {
     "name": "stdin",
     "output_type": "stream",
     "text": [
      "Please type in username:  A\n"
     ]
    },
    {
     "name": "stdout",
     "output_type": "stream",
     "text": [
      "A\n",
      "gender\n"
     ]
    },
    {
     "name": "stdin",
     "output_type": "stream",
     "text": [
      "Please type in gender:  B\n"
     ]
    },
    {
     "name": "stdout",
     "output_type": "stream",
     "text": [
      "B\n",
      "name\n"
     ]
    },
    {
     "name": "stdin",
     "output_type": "stream",
     "text": [
      "Please type in name:  C\n"
     ]
    },
    {
     "name": "stdout",
     "output_type": "stream",
     "text": [
      "C\n",
      "age\n"
     ]
    },
    {
     "name": "stdin",
     "output_type": "stream",
     "text": [
      "Please type in age:  D\n"
     ]
    },
    {
     "name": "stdout",
     "output_type": "stream",
     "text": [
      "D\n",
      "height\n"
     ]
    },
    {
     "name": "stdin",
     "output_type": "stream",
     "text": [
      "Please type in height:  E\n"
     ]
    },
    {
     "name": "stdout",
     "output_type": "stream",
     "text": [
      "E\n",
      "ethnicity\n"
     ]
    },
    {
     "name": "stdin",
     "output_type": "stream",
     "text": [
      "Please type in ethnicity:  F\n"
     ]
    },
    {
     "name": "stdout",
     "output_type": "stream",
     "text": [
      "F\n",
      "school\n"
     ]
    },
    {
     "name": "stdin",
     "output_type": "stream",
     "text": [
      "Please type in school:  G\n"
     ]
    },
    {
     "name": "stdout",
     "output_type": "stream",
     "text": [
      "G\n",
      "workplace\n"
     ]
    },
    {
     "name": "stdin",
     "output_type": "stream",
     "text": [
      "Please type in workplace:  H\n"
     ]
    },
    {
     "name": "stdout",
     "output_type": "stream",
     "text": [
      "H\n",
      "jobtitle\n"
     ]
    },
    {
     "name": "stdin",
     "output_type": "stream",
     "text": [
      "Please type in job title:  I\n"
     ]
    },
    {
     "name": "stdout",
     "output_type": "stream",
     "text": [
      "I\n",
      "religion\n"
     ]
    },
    {
     "name": "stdin",
     "output_type": "stream",
     "text": [
      "Please type in religion:  J\n"
     ]
    },
    {
     "name": "stdout",
     "output_type": "stream",
     "text": [
      "J\n",
      "politics\n"
     ]
    },
    {
     "name": "stdin",
     "output_type": "stream",
     "text": [
      "Please type in political tendency:  K\n"
     ]
    },
    {
     "name": "stdout",
     "output_type": "stream",
     "text": [
      "K\n",
      "dating_goals\n"
     ]
    },
    {
     "name": "stdin",
     "output_type": "stream",
     "text": [
      "Please type in dating goals:  L\n"
     ]
    },
    {
     "name": "stdout",
     "output_type": "stream",
     "text": [
      "L\n",
      "sexual_preferences\n"
     ]
    },
    {
     "name": "stdin",
     "output_type": "stream",
     "text": [
      "Please type in sexual preferences:  M\n"
     ]
    },
    {
     "name": "stdout",
     "output_type": "stream",
     "text": [
      "M\n"
     ]
    }
   ],
   "source": [
    "userinfo.userinput()"
   ]
  },
  {
   "cell_type": "code",
   "execution_count": 5,
   "id": "abd83730-7e1b-4ea2-b845-bf60592ec21a",
   "metadata": {},
   "outputs": [
    {
     "ename": "NameError",
     "evalue": "name 'profile_var' is not defined",
     "output_type": "error",
     "traceback": [
      "\u001b[1;31m---------------------------------------------------------------------------\u001b[0m",
      "\u001b[1;31mNameError\u001b[0m                                 Traceback (most recent call last)",
      "Cell \u001b[1;32mIn [5], line 1\u001b[0m\n\u001b[1;32m----> 1\u001b[0m \u001b[43mprofile_var\u001b[49m[\u001b[38;5;241m0\u001b[39m]\n",
      "\u001b[1;31mNameError\u001b[0m: name 'profile_var' is not defined"
     ]
    }
   ],
   "source": [
    "profile_var[0]"
   ]
  },
  {
   "cell_type": "code",
   "execution_count": null,
   "id": "337e164a-3603-4769-9cf8-cb8e25e98bc3",
   "metadata": {},
   "outputs": [],
   "source": [
    "for i in range(0, len(profile_var)):\n",
    "    print(profile_var[i])"
   ]
  }
 ],
 "metadata": {
  "kernelspec": {
   "display_name": "Python 3 (ipykernel)",
   "language": "python",
   "name": "python3"
  },
  "language_info": {
   "codemirror_mode": {
    "name": "ipython",
    "version": 3
   },
   "file_extension": ".py",
   "mimetype": "text/x-python",
   "name": "python",
   "nbconvert_exporter": "python",
   "pygments_lexer": "ipython3",
   "version": "3.10.8"
  }
 },
 "nbformat": 4,
 "nbformat_minor": 5
}
