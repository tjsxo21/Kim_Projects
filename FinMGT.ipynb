{
 "cells": [
  {
   "cell_type": "code",
   "execution_count": 1,
   "metadata": {},
   "outputs": [],
   "source": [
    "def allsheet_info():\n",
    "    # Make all updates monthlylog sheet for now\n",
    "    import xlsxwriter\n",
    "    workbook = xlsxwriter.Workbook(r'C:\\Users\\sun\\OneDrive\\Documents\\Main_Work\\Programming\\Python Projects\\FinMGT\\source_file\\FinMgt21.xlsx')\n",
    "    worksheet = workbook.add_worksheet('Monthly Log')\n",
    "    underline_format = workbook.add_format({'underline': True})\n",
    "    \n",
    "    # Monthly Log sheet Portion\n",
    "    # write month numbers 1-12\n",
    "    for n in range(1,13):\n",
    "        worksheet.write(0,n,n)\n",
    "\n",
    "    worksheet.write(0,0,'Month')\n",
    "    worksheet.write(2,0,'Incomes',underline_format)\n",
    "    worksheet.write(3,0,'Salary')\n",
    "    worksheet.write(4,0,'Other')\n",
    "    worksheet.write(5,0,'Total Inc.')\n",
    "    worksheet.write(7,0,'Expenses',underline_format)\n",
    "    worksheet.write(8,0,'Basic Exp.')\n",
    "    worksheet.write(9,0,'Extra Exp.')\n",
    "    worksheet.write(10,0,'Total Exp.')\n",
    "    worksheet.write(12,0,'Balance',underline_format)\n",
    "    worksheet.write(13,0,'Total Bal.')\n",
    "\n",
    "    # Assign values from monthlylog_input\n",
    "    current_month,monthly_salary,other_income,basic_exp,extra_exp = monthlylog_userinput()\n",
    "    for i in range(1,13):\n",
    "        if int(current_month) == i:\n",
    "            worksheet.write(3,i,int(monthly_salary))\n",
    "            worksheet.write(4,i,int(other_income))\n",
    "            worksheet.write(5,i,int(monthly_salary)+int(other_income))\n",
    "            worksheet.write(8,i,int(basic_exp))\n",
    "            worksheet.write(9,i,int(extra_exp))\n",
    "            worksheet.write(10,i,int(basic_exp)+int(extra_exp))\n",
    "            worksheet.write(13,i,int(monthly_salary)+int(other_income)-int(basic_exp)-int(extra_exp))\n",
    "            \n",
    "    # Investment Debt sheet Portion\n",
    "    worksheet = workbook.add_worksheet('InvestmentDebt')    \n",
    "    current_year = input('Enter current year: ')\n",
    "    pv = input(\"Enter pv: \")\n",
    "    r = input(\"Enter interest rate (%): \")\n",
    "    t = input(\"Enter number of years: \")\n",
    "    c = float(pv) / ((1 - (1 / (1+float(r)/100)**float(t))) / (float(r)/100))\n",
    "    \n",
    "    worksheet.write(0,0,'Year')\n",
    "    worksheet.write(0,2,int(current_year)) # needs to change\n",
    "    worksheet.write(2,0,'Debt',underline_format)\n",
    "    worksheet.write(3,0,'PV (Present Value)')\n",
    "    worksheet.write(4,0,'I (Interest Rate)')\n",
    "    worksheet.write(5,0,'T (No. of Years)')\n",
    "    worksheet.write(6,0,'C (Monthly Payment)')\n",
    "    worksheet.write(3,2,int(pv))\n",
    "    worksheet.write(4,2,float(r))\n",
    "    worksheet.write(5,2,float(t))\n",
    "    worksheet.write(6,2,float(c))\n",
    "    \n",
    "    # Financial Analysis Portion (Currently Working on it)\n",
    "    workbook.close()"
   ]
  },
  {
   "cell_type": "code",
   "execution_count": 2,
   "metadata": {},
   "outputs": [],
   "source": [
    "def monthlylog_userinput():\n",
    "    \n",
    "    current_month = input(\"Enter current month: \") \n",
    "    monthly_salary = input(\"Salary: \")\n",
    "    other_income = input(\"Other income: \")\n",
    "    basic_exp = input(\"Basic exp: \")\n",
    "    extra_exp = input(\"Extra exp: \")\n",
    "    \n",
    "    return current_month,monthly_salary,other_income,basic_exp,extra_exp\n",
    "    \n",
    "    #Print user the balance and ask how much investment they would like to make?"
   ]
  },
  {
   "cell_type": "code",
   "execution_count": 3,
   "metadata": {},
   "outputs": [],
   "source": [
    "def main():\n",
    "    allsheet_info()"
   ]
  },
  {
   "cell_type": "code",
   "execution_count": 4,
   "metadata": {},
   "outputs": [
    {
     "name": "stdout",
     "output_type": "stream",
     "text": [
      "Enter current month: 10\n",
      "Salary: 1000\n",
      "Other income: 200\n",
      "Basic exp: 900\n",
      "Extra exp: 100\n",
      "Enter current year: 2021\n",
      "Enter pv: 10000\n",
      "Enter interest rate (%): 5\n",
      "Enter number of years: 3\n"
     ]
    }
   ],
   "source": [
    "main()"
   ]
  },
  {
   "cell_type": "markdown",
   "metadata": {},
   "source": []
  },
  {
   "cell_type": "code",
   "execution_count": null,
   "metadata": {},
   "outputs": [],
   "source": []
  }
 ],
 "metadata": {
  "kernelspec": {
   "display_name": "Python 3",
   "language": "python",
   "name": "python3"
  },
  "language_info": {
   "codemirror_mode": {
    "name": "ipython",
    "version": 3
   },
   "file_extension": ".py",
   "mimetype": "text/x-python",
   "name": "python",
   "nbconvert_exporter": "python",
   "pygments_lexer": "ipython3",
   "version": "3.7.4"
  }
 },
 "nbformat": 4,
 "nbformat_minor": 2
}
